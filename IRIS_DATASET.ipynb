{
  "nbformat": 4,
  "nbformat_minor": 0,
  "metadata": {
    "colab": {
      "provenance": [],
      "include_colab_link": true
    },
    "kernelspec": {
      "name": "python3",
      "display_name": "Python 3"
    },
    "language_info": {
      "name": "python"
    }
  },
  "cells": [
    {
      "cell_type": "markdown",
      "metadata": {
        "id": "view-in-github",
        "colab_type": "text"
      },
      "source": [
        "<a href=\"https://colab.research.google.com/github/Jeevinee/CodSoft/blob/main/IRIS_DATASET.ipynb\" target=\"_parent\"><img src=\"https://colab.research.google.com/assets/colab-badge.svg\" alt=\"Open In Colab\"/></a>"
      ]
    },
    {
      "cell_type": "markdown",
      "source": [
        "***IRIS*** ***DATASET***"
      ],
      "metadata": {
        "id": "YVobgkHdD59I"
      }
    },
    {
      "cell_type": "markdown",
      "source": [
        "**IMPORTING** THE **LIBRARIES**"
      ],
      "metadata": {
        "id": "7iQJ15cD-Ef8"
      }
    },
    {
      "cell_type": "code",
      "source": [
        "import pandas as pd\n",
        "import matplotlib.pyplot as plt\n",
        "import numpy as np\n",
        "from sklearn.neighbors import KNeighborsClassifier\n",
        "from sklearn import preprocessing\n",
        "from sklearn.model_selection import train_test_split"
      ],
      "metadata": {
        "id": "ZeO0g7SO-NDe"
      },
      "execution_count": null,
      "outputs": []
    },
    {
      "cell_type": "markdown",
      "source": [
        "**READ** **DATASET**"
      ],
      "metadata": {
        "id": "SnpOPDZQ_PIF"
      }
    },
    {
      "cell_type": "code",
      "source": [
        "iris=pd.read_csv(\"/content/Iris.csv\")"
      ],
      "metadata": {
        "id": "SuOSpmP0-7t3"
      },
      "execution_count": null,
      "outputs": []
    },
    {
      "cell_type": "markdown",
      "source": [
        "**FIRST** **6** **ROWS**"
      ],
      "metadata": {
        "id": "X5bdNmvp_yVV"
      }
    },
    {
      "cell_type": "code",
      "source": [
        "iris.head(6)"
      ],
      "metadata": {
        "colab": {
          "base_uri": "https://localhost:8080/",
          "height": 237
        },
        "id": "xXoyFAI1_bz9",
        "outputId": "6fec1df6-bef4-477c-caa5-1b9f5b28a474"
      },
      "execution_count": null,
      "outputs": [
        {
          "output_type": "execute_result",
          "data": {
            "text/plain": [
              "   Id  SepalLengthCm  SepalWidthCm  PetalLengthCm  PetalWidthCm      Species\n",
              "0   1            5.1           3.5            1.4           0.2  Iris-setosa\n",
              "1   2            4.9           3.0            1.4           0.2  Iris-setosa\n",
              "2   3            4.7           3.2            1.3           0.2  Iris-setosa\n",
              "3   4            4.6           3.1            1.5           0.2  Iris-setosa\n",
              "4   5            5.0           3.6            1.4           0.2  Iris-setosa\n",
              "5   6            5.4           3.9            1.7           0.4  Iris-setosa"
            ],
            "text/html": [
              "\n",
              "  <div id=\"df-5f57427c-9200-4a54-aa26-d2924b31d478\">\n",
              "    <div class=\"colab-df-container\">\n",
              "      <div>\n",
              "<style scoped>\n",
              "    .dataframe tbody tr th:only-of-type {\n",
              "        vertical-align: middle;\n",
              "    }\n",
              "\n",
              "    .dataframe tbody tr th {\n",
              "        vertical-align: top;\n",
              "    }\n",
              "\n",
              "    .dataframe thead th {\n",
              "        text-align: right;\n",
              "    }\n",
              "</style>\n",
              "<table border=\"1\" class=\"dataframe\">\n",
              "  <thead>\n",
              "    <tr style=\"text-align: right;\">\n",
              "      <th></th>\n",
              "      <th>Id</th>\n",
              "      <th>SepalLengthCm</th>\n",
              "      <th>SepalWidthCm</th>\n",
              "      <th>PetalLengthCm</th>\n",
              "      <th>PetalWidthCm</th>\n",
              "      <th>Species</th>\n",
              "    </tr>\n",
              "  </thead>\n",
              "  <tbody>\n",
              "    <tr>\n",
              "      <th>0</th>\n",
              "      <td>1</td>\n",
              "      <td>5.1</td>\n",
              "      <td>3.5</td>\n",
              "      <td>1.4</td>\n",
              "      <td>0.2</td>\n",
              "      <td>Iris-setosa</td>\n",
              "    </tr>\n",
              "    <tr>\n",
              "      <th>1</th>\n",
              "      <td>2</td>\n",
              "      <td>4.9</td>\n",
              "      <td>3.0</td>\n",
              "      <td>1.4</td>\n",
              "      <td>0.2</td>\n",
              "      <td>Iris-setosa</td>\n",
              "    </tr>\n",
              "    <tr>\n",
              "      <th>2</th>\n",
              "      <td>3</td>\n",
              "      <td>4.7</td>\n",
              "      <td>3.2</td>\n",
              "      <td>1.3</td>\n",
              "      <td>0.2</td>\n",
              "      <td>Iris-setosa</td>\n",
              "    </tr>\n",
              "    <tr>\n",
              "      <th>3</th>\n",
              "      <td>4</td>\n",
              "      <td>4.6</td>\n",
              "      <td>3.1</td>\n",
              "      <td>1.5</td>\n",
              "      <td>0.2</td>\n",
              "      <td>Iris-setosa</td>\n",
              "    </tr>\n",
              "    <tr>\n",
              "      <th>4</th>\n",
              "      <td>5</td>\n",
              "      <td>5.0</td>\n",
              "      <td>3.6</td>\n",
              "      <td>1.4</td>\n",
              "      <td>0.2</td>\n",
              "      <td>Iris-setosa</td>\n",
              "    </tr>\n",
              "    <tr>\n",
              "      <th>5</th>\n",
              "      <td>6</td>\n",
              "      <td>5.4</td>\n",
              "      <td>3.9</td>\n",
              "      <td>1.7</td>\n",
              "      <td>0.4</td>\n",
              "      <td>Iris-setosa</td>\n",
              "    </tr>\n",
              "  </tbody>\n",
              "</table>\n",
              "</div>\n",
              "      <button class=\"colab-df-convert\" onclick=\"convertToInteractive('df-5f57427c-9200-4a54-aa26-d2924b31d478')\"\n",
              "              title=\"Convert this dataframe to an interactive table.\"\n",
              "              style=\"display:none;\">\n",
              "        \n",
              "  <svg xmlns=\"http://www.w3.org/2000/svg\" height=\"24px\"viewBox=\"0 0 24 24\"\n",
              "       width=\"24px\">\n",
              "    <path d=\"M0 0h24v24H0V0z\" fill=\"none\"/>\n",
              "    <path d=\"M18.56 5.44l.94 2.06.94-2.06 2.06-.94-2.06-.94-.94-2.06-.94 2.06-2.06.94zm-11 1L8.5 8.5l.94-2.06 2.06-.94-2.06-.94L8.5 2.5l-.94 2.06-2.06.94zm10 10l.94 2.06.94-2.06 2.06-.94-2.06-.94-.94-2.06-.94 2.06-2.06.94z\"/><path d=\"M17.41 7.96l-1.37-1.37c-.4-.4-.92-.59-1.43-.59-.52 0-1.04.2-1.43.59L10.3 9.45l-7.72 7.72c-.78.78-.78 2.05 0 2.83L4 21.41c.39.39.9.59 1.41.59.51 0 1.02-.2 1.41-.59l7.78-7.78 2.81-2.81c.8-.78.8-2.07 0-2.86zM5.41 20L4 18.59l7.72-7.72 1.47 1.35L5.41 20z\"/>\n",
              "  </svg>\n",
              "      </button>\n",
              "      \n",
              "  <style>\n",
              "    .colab-df-container {\n",
              "      display:flex;\n",
              "      flex-wrap:wrap;\n",
              "      gap: 12px;\n",
              "    }\n",
              "\n",
              "    .colab-df-convert {\n",
              "      background-color: #E8F0FE;\n",
              "      border: none;\n",
              "      border-radius: 50%;\n",
              "      cursor: pointer;\n",
              "      display: none;\n",
              "      fill: #1967D2;\n",
              "      height: 32px;\n",
              "      padding: 0 0 0 0;\n",
              "      width: 32px;\n",
              "    }\n",
              "\n",
              "    .colab-df-convert:hover {\n",
              "      background-color: #E2EBFA;\n",
              "      box-shadow: 0px 1px 2px rgba(60, 64, 67, 0.3), 0px 1px 3px 1px rgba(60, 64, 67, 0.15);\n",
              "      fill: #174EA6;\n",
              "    }\n",
              "\n",
              "    [theme=dark] .colab-df-convert {\n",
              "      background-color: #3B4455;\n",
              "      fill: #D2E3FC;\n",
              "    }\n",
              "\n",
              "    [theme=dark] .colab-df-convert:hover {\n",
              "      background-color: #434B5C;\n",
              "      box-shadow: 0px 1px 3px 1px rgba(0, 0, 0, 0.15);\n",
              "      filter: drop-shadow(0px 1px 2px rgba(0, 0, 0, 0.3));\n",
              "      fill: #FFFFFF;\n",
              "    }\n",
              "  </style>\n",
              "\n",
              "      <script>\n",
              "        const buttonEl =\n",
              "          document.querySelector('#df-5f57427c-9200-4a54-aa26-d2924b31d478 button.colab-df-convert');\n",
              "        buttonEl.style.display =\n",
              "          google.colab.kernel.accessAllowed ? 'block' : 'none';\n",
              "\n",
              "        async function convertToInteractive(key) {\n",
              "          const element = document.querySelector('#df-5f57427c-9200-4a54-aa26-d2924b31d478');\n",
              "          const dataTable =\n",
              "            await google.colab.kernel.invokeFunction('convertToInteractive',\n",
              "                                                     [key], {});\n",
              "          if (!dataTable) return;\n",
              "\n",
              "          const docLinkHtml = 'Like what you see? Visit the ' +\n",
              "            '<a target=\"_blank\" href=https://colab.research.google.com/notebooks/data_table.ipynb>data table notebook</a>'\n",
              "            + ' to learn more about interactive tables.';\n",
              "          element.innerHTML = '';\n",
              "          dataTable['output_type'] = 'display_data';\n",
              "          await google.colab.output.renderOutput(dataTable, element);\n",
              "          const docLink = document.createElement('div');\n",
              "          docLink.innerHTML = docLinkHtml;\n",
              "          element.appendChild(docLink);\n",
              "        }\n",
              "      </script>\n",
              "    </div>\n",
              "  </div>\n",
              "  "
            ]
          },
          "metadata": {},
          "execution_count": 4
        }
      ]
    },
    {
      "cell_type": "markdown",
      "source": [
        "**LAST** **5** **ROWS**"
      ],
      "metadata": {
        "id": "5sAleUT1ACe3"
      }
    },
    {
      "cell_type": "code",
      "source": [
        "iris.tail()"
      ],
      "metadata": {
        "colab": {
          "base_uri": "https://localhost:8080/",
          "height": 206
        },
        "id": "8YDAE56e_w0s",
        "outputId": "f454f6e2-8e50-41d1-dcd8-c14a56012fb8"
      },
      "execution_count": null,
      "outputs": [
        {
          "output_type": "execute_result",
          "data": {
            "text/plain": [
              "      Id  SepalLengthCm  SepalWidthCm  PetalLengthCm  PetalWidthCm  \\\n",
              "145  146            6.7           3.0            5.2           2.3   \n",
              "146  147            6.3           2.5            5.0           1.9   \n",
              "147  148            6.5           3.0            5.2           2.0   \n",
              "148  149            6.2           3.4            5.4           2.3   \n",
              "149  150            5.9           3.0            5.1           1.8   \n",
              "\n",
              "            Species  \n",
              "145  Iris-virginica  \n",
              "146  Iris-virginica  \n",
              "147  Iris-virginica  \n",
              "148  Iris-virginica  \n",
              "149  Iris-virginica  "
            ],
            "text/html": [
              "\n",
              "  <div id=\"df-30630f1c-c699-46c9-8fff-00a280357275\">\n",
              "    <div class=\"colab-df-container\">\n",
              "      <div>\n",
              "<style scoped>\n",
              "    .dataframe tbody tr th:only-of-type {\n",
              "        vertical-align: middle;\n",
              "    }\n",
              "\n",
              "    .dataframe tbody tr th {\n",
              "        vertical-align: top;\n",
              "    }\n",
              "\n",
              "    .dataframe thead th {\n",
              "        text-align: right;\n",
              "    }\n",
              "</style>\n",
              "<table border=\"1\" class=\"dataframe\">\n",
              "  <thead>\n",
              "    <tr style=\"text-align: right;\">\n",
              "      <th></th>\n",
              "      <th>Id</th>\n",
              "      <th>SepalLengthCm</th>\n",
              "      <th>SepalWidthCm</th>\n",
              "      <th>PetalLengthCm</th>\n",
              "      <th>PetalWidthCm</th>\n",
              "      <th>Species</th>\n",
              "    </tr>\n",
              "  </thead>\n",
              "  <tbody>\n",
              "    <tr>\n",
              "      <th>145</th>\n",
              "      <td>146</td>\n",
              "      <td>6.7</td>\n",
              "      <td>3.0</td>\n",
              "      <td>5.2</td>\n",
              "      <td>2.3</td>\n",
              "      <td>Iris-virginica</td>\n",
              "    </tr>\n",
              "    <tr>\n",
              "      <th>146</th>\n",
              "      <td>147</td>\n",
              "      <td>6.3</td>\n",
              "      <td>2.5</td>\n",
              "      <td>5.0</td>\n",
              "      <td>1.9</td>\n",
              "      <td>Iris-virginica</td>\n",
              "    </tr>\n",
              "    <tr>\n",
              "      <th>147</th>\n",
              "      <td>148</td>\n",
              "      <td>6.5</td>\n",
              "      <td>3.0</td>\n",
              "      <td>5.2</td>\n",
              "      <td>2.0</td>\n",
              "      <td>Iris-virginica</td>\n",
              "    </tr>\n",
              "    <tr>\n",
              "      <th>148</th>\n",
              "      <td>149</td>\n",
              "      <td>6.2</td>\n",
              "      <td>3.4</td>\n",
              "      <td>5.4</td>\n",
              "      <td>2.3</td>\n",
              "      <td>Iris-virginica</td>\n",
              "    </tr>\n",
              "    <tr>\n",
              "      <th>149</th>\n",
              "      <td>150</td>\n",
              "      <td>5.9</td>\n",
              "      <td>3.0</td>\n",
              "      <td>5.1</td>\n",
              "      <td>1.8</td>\n",
              "      <td>Iris-virginica</td>\n",
              "    </tr>\n",
              "  </tbody>\n",
              "</table>\n",
              "</div>\n",
              "      <button class=\"colab-df-convert\" onclick=\"convertToInteractive('df-30630f1c-c699-46c9-8fff-00a280357275')\"\n",
              "              title=\"Convert this dataframe to an interactive table.\"\n",
              "              style=\"display:none;\">\n",
              "        \n",
              "  <svg xmlns=\"http://www.w3.org/2000/svg\" height=\"24px\"viewBox=\"0 0 24 24\"\n",
              "       width=\"24px\">\n",
              "    <path d=\"M0 0h24v24H0V0z\" fill=\"none\"/>\n",
              "    <path d=\"M18.56 5.44l.94 2.06.94-2.06 2.06-.94-2.06-.94-.94-2.06-.94 2.06-2.06.94zm-11 1L8.5 8.5l.94-2.06 2.06-.94-2.06-.94L8.5 2.5l-.94 2.06-2.06.94zm10 10l.94 2.06.94-2.06 2.06-.94-2.06-.94-.94-2.06-.94 2.06-2.06.94z\"/><path d=\"M17.41 7.96l-1.37-1.37c-.4-.4-.92-.59-1.43-.59-.52 0-1.04.2-1.43.59L10.3 9.45l-7.72 7.72c-.78.78-.78 2.05 0 2.83L4 21.41c.39.39.9.59 1.41.59.51 0 1.02-.2 1.41-.59l7.78-7.78 2.81-2.81c.8-.78.8-2.07 0-2.86zM5.41 20L4 18.59l7.72-7.72 1.47 1.35L5.41 20z\"/>\n",
              "  </svg>\n",
              "      </button>\n",
              "      \n",
              "  <style>\n",
              "    .colab-df-container {\n",
              "      display:flex;\n",
              "      flex-wrap:wrap;\n",
              "      gap: 12px;\n",
              "    }\n",
              "\n",
              "    .colab-df-convert {\n",
              "      background-color: #E8F0FE;\n",
              "      border: none;\n",
              "      border-radius: 50%;\n",
              "      cursor: pointer;\n",
              "      display: none;\n",
              "      fill: #1967D2;\n",
              "      height: 32px;\n",
              "      padding: 0 0 0 0;\n",
              "      width: 32px;\n",
              "    }\n",
              "\n",
              "    .colab-df-convert:hover {\n",
              "      background-color: #E2EBFA;\n",
              "      box-shadow: 0px 1px 2px rgba(60, 64, 67, 0.3), 0px 1px 3px 1px rgba(60, 64, 67, 0.15);\n",
              "      fill: #174EA6;\n",
              "    }\n",
              "\n",
              "    [theme=dark] .colab-df-convert {\n",
              "      background-color: #3B4455;\n",
              "      fill: #D2E3FC;\n",
              "    }\n",
              "\n",
              "    [theme=dark] .colab-df-convert:hover {\n",
              "      background-color: #434B5C;\n",
              "      box-shadow: 0px 1px 3px 1px rgba(0, 0, 0, 0.15);\n",
              "      filter: drop-shadow(0px 1px 2px rgba(0, 0, 0, 0.3));\n",
              "      fill: #FFFFFF;\n",
              "    }\n",
              "  </style>\n",
              "\n",
              "      <script>\n",
              "        const buttonEl =\n",
              "          document.querySelector('#df-30630f1c-c699-46c9-8fff-00a280357275 button.colab-df-convert');\n",
              "        buttonEl.style.display =\n",
              "          google.colab.kernel.accessAllowed ? 'block' : 'none';\n",
              "\n",
              "        async function convertToInteractive(key) {\n",
              "          const element = document.querySelector('#df-30630f1c-c699-46c9-8fff-00a280357275');\n",
              "          const dataTable =\n",
              "            await google.colab.kernel.invokeFunction('convertToInteractive',\n",
              "                                                     [key], {});\n",
              "          if (!dataTable) return;\n",
              "\n",
              "          const docLinkHtml = 'Like what you see? Visit the ' +\n",
              "            '<a target=\"_blank\" href=https://colab.research.google.com/notebooks/data_table.ipynb>data table notebook</a>'\n",
              "            + ' to learn more about interactive tables.';\n",
              "          element.innerHTML = '';\n",
              "          dataTable['output_type'] = 'display_data';\n",
              "          await google.colab.output.renderOutput(dataTable, element);\n",
              "          const docLink = document.createElement('div');\n",
              "          docLink.innerHTML = docLinkHtml;\n",
              "          element.appendChild(docLink);\n",
              "        }\n",
              "      </script>\n",
              "    </div>\n",
              "  </div>\n",
              "  "
            ]
          },
          "metadata": {},
          "execution_count": 5
        }
      ]
    },
    {
      "cell_type": "markdown",
      "source": [
        "**DATA** **SET** **ANALYSIS**"
      ],
      "metadata": {
        "id": "wXIe2XRAAb2V"
      }
    },
    {
      "cell_type": "code",
      "source": [
        "iris.shape   # 150 rows and 3 6 columns"
      ],
      "metadata": {
        "colab": {
          "base_uri": "https://localhost:8080/"
        },
        "id": "GhDC19DWAiTT",
        "outputId": "07188526-6160-4862-86d6-7eb36ddadf67"
      },
      "execution_count": null,
      "outputs": [
        {
          "output_type": "execute_result",
          "data": {
            "text/plain": [
              "(150, 6)"
            ]
          },
          "metadata": {},
          "execution_count": 6
        }
      ]
    },
    {
      "cell_type": "code",
      "source": [
        "iris['Species'].value_counts()    # FOR CHECKING THE  SPECIFIC ROWS IN SPECIES"
      ],
      "metadata": {
        "colab": {
          "base_uri": "https://localhost:8080/"
        },
        "id": "5NOKuvuPAoMe",
        "outputId": "6f70a6b7-bd39-4749-b963-d299dc03decd"
      },
      "execution_count": null,
      "outputs": [
        {
          "output_type": "execute_result",
          "data": {
            "text/plain": [
              "Iris-setosa        50\n",
              "Iris-versicolor    50\n",
              "Iris-virginica     50\n",
              "Name: Species, dtype: int64"
            ]
          },
          "metadata": {},
          "execution_count": 7
        }
      ]
    },
    {
      "cell_type": "code",
      "source": [
        "iris.columns"
      ],
      "metadata": {
        "colab": {
          "base_uri": "https://localhost:8080/"
        },
        "id": "TF4s_cN5A6rn",
        "outputId": "dffe7691-03af-4510-882e-b14e156ed711"
      },
      "execution_count": null,
      "outputs": [
        {
          "output_type": "execute_result",
          "data": {
            "text/plain": [
              "Index(['Id', 'SepalLengthCm', 'SepalWidthCm', 'PetalLengthCm', 'PetalWidthCm',\n",
              "       'Species'],\n",
              "      dtype='object')"
            ]
          },
          "metadata": {},
          "execution_count": 8
        }
      ]
    },
    {
      "cell_type": "code",
      "source": [
        "iris.values"
      ],
      "metadata": {
        "colab": {
          "base_uri": "https://localhost:8080/"
        },
        "id": "eazK_-dSBQP9",
        "outputId": "e80cd5cc-f458-46fb-8492-bd5e41e8d9db"
      },
      "execution_count": null,
      "outputs": [
        {
          "output_type": "execute_result",
          "data": {
            "text/plain": [
              "array([[1, 5.1, 3.5, 1.4, 0.2, 'Iris-setosa'],\n",
              "       [2, 4.9, 3.0, 1.4, 0.2, 'Iris-setosa'],\n",
              "       [3, 4.7, 3.2, 1.3, 0.2, 'Iris-setosa'],\n",
              "       [4, 4.6, 3.1, 1.5, 0.2, 'Iris-setosa'],\n",
              "       [5, 5.0, 3.6, 1.4, 0.2, 'Iris-setosa'],\n",
              "       [6, 5.4, 3.9, 1.7, 0.4, 'Iris-setosa'],\n",
              "       [7, 4.6, 3.4, 1.4, 0.3, 'Iris-setosa'],\n",
              "       [8, 5.0, 3.4, 1.5, 0.2, 'Iris-setosa'],\n",
              "       [9, 4.4, 2.9, 1.4, 0.2, 'Iris-setosa'],\n",
              "       [10, 4.9, 3.1, 1.5, 0.1, 'Iris-setosa'],\n",
              "       [11, 5.4, 3.7, 1.5, 0.2, 'Iris-setosa'],\n",
              "       [12, 4.8, 3.4, 1.6, 0.2, 'Iris-setosa'],\n",
              "       [13, 4.8, 3.0, 1.4, 0.1, 'Iris-setosa'],\n",
              "       [14, 4.3, 3.0, 1.1, 0.1, 'Iris-setosa'],\n",
              "       [15, 5.8, 4.0, 1.2, 0.2, 'Iris-setosa'],\n",
              "       [16, 5.7, 4.4, 1.5, 0.4, 'Iris-setosa'],\n",
              "       [17, 5.4, 3.9, 1.3, 0.4, 'Iris-setosa'],\n",
              "       [18, 5.1, 3.5, 1.4, 0.3, 'Iris-setosa'],\n",
              "       [19, 5.7, 3.8, 1.7, 0.3, 'Iris-setosa'],\n",
              "       [20, 5.1, 3.8, 1.5, 0.3, 'Iris-setosa'],\n",
              "       [21, 5.4, 3.4, 1.7, 0.2, 'Iris-setosa'],\n",
              "       [22, 5.1, 3.7, 1.5, 0.4, 'Iris-setosa'],\n",
              "       [23, 4.6, 3.6, 1.0, 0.2, 'Iris-setosa'],\n",
              "       [24, 5.1, 3.3, 1.7, 0.5, 'Iris-setosa'],\n",
              "       [25, 4.8, 3.4, 1.9, 0.2, 'Iris-setosa'],\n",
              "       [26, 5.0, 3.0, 1.6, 0.2, 'Iris-setosa'],\n",
              "       [27, 5.0, 3.4, 1.6, 0.4, 'Iris-setosa'],\n",
              "       [28, 5.2, 3.5, 1.5, 0.2, 'Iris-setosa'],\n",
              "       [29, 5.2, 3.4, 1.4, 0.2, 'Iris-setosa'],\n",
              "       [30, 4.7, 3.2, 1.6, 0.2, 'Iris-setosa'],\n",
              "       [31, 4.8, 3.1, 1.6, 0.2, 'Iris-setosa'],\n",
              "       [32, 5.4, 3.4, 1.5, 0.4, 'Iris-setosa'],\n",
              "       [33, 5.2, 4.1, 1.5, 0.1, 'Iris-setosa'],\n",
              "       [34, 5.5, 4.2, 1.4, 0.2, 'Iris-setosa'],\n",
              "       [35, 4.9, 3.1, 1.5, 0.1, 'Iris-setosa'],\n",
              "       [36, 5.0, 3.2, 1.2, 0.2, 'Iris-setosa'],\n",
              "       [37, 5.5, 3.5, 1.3, 0.2, 'Iris-setosa'],\n",
              "       [38, 4.9, 3.1, 1.5, 0.1, 'Iris-setosa'],\n",
              "       [39, 4.4, 3.0, 1.3, 0.2, 'Iris-setosa'],\n",
              "       [40, 5.1, 3.4, 1.5, 0.2, 'Iris-setosa'],\n",
              "       [41, 5.0, 3.5, 1.3, 0.3, 'Iris-setosa'],\n",
              "       [42, 4.5, 2.3, 1.3, 0.3, 'Iris-setosa'],\n",
              "       [43, 4.4, 3.2, 1.3, 0.2, 'Iris-setosa'],\n",
              "       [44, 5.0, 3.5, 1.6, 0.6, 'Iris-setosa'],\n",
              "       [45, 5.1, 3.8, 1.9, 0.4, 'Iris-setosa'],\n",
              "       [46, 4.8, 3.0, 1.4, 0.3, 'Iris-setosa'],\n",
              "       [47, 5.1, 3.8, 1.6, 0.2, 'Iris-setosa'],\n",
              "       [48, 4.6, 3.2, 1.4, 0.2, 'Iris-setosa'],\n",
              "       [49, 5.3, 3.7, 1.5, 0.2, 'Iris-setosa'],\n",
              "       [50, 5.0, 3.3, 1.4, 0.2, 'Iris-setosa'],\n",
              "       [51, 7.0, 3.2, 4.7, 1.4, 'Iris-versicolor'],\n",
              "       [52, 6.4, 3.2, 4.5, 1.5, 'Iris-versicolor'],\n",
              "       [53, 6.9, 3.1, 4.9, 1.5, 'Iris-versicolor'],\n",
              "       [54, 5.5, 2.3, 4.0, 1.3, 'Iris-versicolor'],\n",
              "       [55, 6.5, 2.8, 4.6, 1.5, 'Iris-versicolor'],\n",
              "       [56, 5.7, 2.8, 4.5, 1.3, 'Iris-versicolor'],\n",
              "       [57, 6.3, 3.3, 4.7, 1.6, 'Iris-versicolor'],\n",
              "       [58, 4.9, 2.4, 3.3, 1.0, 'Iris-versicolor'],\n",
              "       [59, 6.6, 2.9, 4.6, 1.3, 'Iris-versicolor'],\n",
              "       [60, 5.2, 2.7, 3.9, 1.4, 'Iris-versicolor'],\n",
              "       [61, 5.0, 2.0, 3.5, 1.0, 'Iris-versicolor'],\n",
              "       [62, 5.9, 3.0, 4.2, 1.5, 'Iris-versicolor'],\n",
              "       [63, 6.0, 2.2, 4.0, 1.0, 'Iris-versicolor'],\n",
              "       [64, 6.1, 2.9, 4.7, 1.4, 'Iris-versicolor'],\n",
              "       [65, 5.6, 2.9, 3.6, 1.3, 'Iris-versicolor'],\n",
              "       [66, 6.7, 3.1, 4.4, 1.4, 'Iris-versicolor'],\n",
              "       [67, 5.6, 3.0, 4.5, 1.5, 'Iris-versicolor'],\n",
              "       [68, 5.8, 2.7, 4.1, 1.0, 'Iris-versicolor'],\n",
              "       [69, 6.2, 2.2, 4.5, 1.5, 'Iris-versicolor'],\n",
              "       [70, 5.6, 2.5, 3.9, 1.1, 'Iris-versicolor'],\n",
              "       [71, 5.9, 3.2, 4.8, 1.8, 'Iris-versicolor'],\n",
              "       [72, 6.1, 2.8, 4.0, 1.3, 'Iris-versicolor'],\n",
              "       [73, 6.3, 2.5, 4.9, 1.5, 'Iris-versicolor'],\n",
              "       [74, 6.1, 2.8, 4.7, 1.2, 'Iris-versicolor'],\n",
              "       [75, 6.4, 2.9, 4.3, 1.3, 'Iris-versicolor'],\n",
              "       [76, 6.6, 3.0, 4.4, 1.4, 'Iris-versicolor'],\n",
              "       [77, 6.8, 2.8, 4.8, 1.4, 'Iris-versicolor'],\n",
              "       [78, 6.7, 3.0, 5.0, 1.7, 'Iris-versicolor'],\n",
              "       [79, 6.0, 2.9, 4.5, 1.5, 'Iris-versicolor'],\n",
              "       [80, 5.7, 2.6, 3.5, 1.0, 'Iris-versicolor'],\n",
              "       [81, 5.5, 2.4, 3.8, 1.1, 'Iris-versicolor'],\n",
              "       [82, 5.5, 2.4, 3.7, 1.0, 'Iris-versicolor'],\n",
              "       [83, 5.8, 2.7, 3.9, 1.2, 'Iris-versicolor'],\n",
              "       [84, 6.0, 2.7, 5.1, 1.6, 'Iris-versicolor'],\n",
              "       [85, 5.4, 3.0, 4.5, 1.5, 'Iris-versicolor'],\n",
              "       [86, 6.0, 3.4, 4.5, 1.6, 'Iris-versicolor'],\n",
              "       [87, 6.7, 3.1, 4.7, 1.5, 'Iris-versicolor'],\n",
              "       [88, 6.3, 2.3, 4.4, 1.3, 'Iris-versicolor'],\n",
              "       [89, 5.6, 3.0, 4.1, 1.3, 'Iris-versicolor'],\n",
              "       [90, 5.5, 2.5, 4.0, 1.3, 'Iris-versicolor'],\n",
              "       [91, 5.5, 2.6, 4.4, 1.2, 'Iris-versicolor'],\n",
              "       [92, 6.1, 3.0, 4.6, 1.4, 'Iris-versicolor'],\n",
              "       [93, 5.8, 2.6, 4.0, 1.2, 'Iris-versicolor'],\n",
              "       [94, 5.0, 2.3, 3.3, 1.0, 'Iris-versicolor'],\n",
              "       [95, 5.6, 2.7, 4.2, 1.3, 'Iris-versicolor'],\n",
              "       [96, 5.7, 3.0, 4.2, 1.2, 'Iris-versicolor'],\n",
              "       [97, 5.7, 2.9, 4.2, 1.3, 'Iris-versicolor'],\n",
              "       [98, 6.2, 2.9, 4.3, 1.3, 'Iris-versicolor'],\n",
              "       [99, 5.1, 2.5, 3.0, 1.1, 'Iris-versicolor'],\n",
              "       [100, 5.7, 2.8, 4.1, 1.3, 'Iris-versicolor'],\n",
              "       [101, 6.3, 3.3, 6.0, 2.5, 'Iris-virginica'],\n",
              "       [102, 5.8, 2.7, 5.1, 1.9, 'Iris-virginica'],\n",
              "       [103, 7.1, 3.0, 5.9, 2.1, 'Iris-virginica'],\n",
              "       [104, 6.3, 2.9, 5.6, 1.8, 'Iris-virginica'],\n",
              "       [105, 6.5, 3.0, 5.8, 2.2, 'Iris-virginica'],\n",
              "       [106, 7.6, 3.0, 6.6, 2.1, 'Iris-virginica'],\n",
              "       [107, 4.9, 2.5, 4.5, 1.7, 'Iris-virginica'],\n",
              "       [108, 7.3, 2.9, 6.3, 1.8, 'Iris-virginica'],\n",
              "       [109, 6.7, 2.5, 5.8, 1.8, 'Iris-virginica'],\n",
              "       [110, 7.2, 3.6, 6.1, 2.5, 'Iris-virginica'],\n",
              "       [111, 6.5, 3.2, 5.1, 2.0, 'Iris-virginica'],\n",
              "       [112, 6.4, 2.7, 5.3, 1.9, 'Iris-virginica'],\n",
              "       [113, 6.8, 3.0, 5.5, 2.1, 'Iris-virginica'],\n",
              "       [114, 5.7, 2.5, 5.0, 2.0, 'Iris-virginica'],\n",
              "       [115, 5.8, 2.8, 5.1, 2.4, 'Iris-virginica'],\n",
              "       [116, 6.4, 3.2, 5.3, 2.3, 'Iris-virginica'],\n",
              "       [117, 6.5, 3.0, 5.5, 1.8, 'Iris-virginica'],\n",
              "       [118, 7.7, 3.8, 6.7, 2.2, 'Iris-virginica'],\n",
              "       [119, 7.7, 2.6, 6.9, 2.3, 'Iris-virginica'],\n",
              "       [120, 6.0, 2.2, 5.0, 1.5, 'Iris-virginica'],\n",
              "       [121, 6.9, 3.2, 5.7, 2.3, 'Iris-virginica'],\n",
              "       [122, 5.6, 2.8, 4.9, 2.0, 'Iris-virginica'],\n",
              "       [123, 7.7, 2.8, 6.7, 2.0, 'Iris-virginica'],\n",
              "       [124, 6.3, 2.7, 4.9, 1.8, 'Iris-virginica'],\n",
              "       [125, 6.7, 3.3, 5.7, 2.1, 'Iris-virginica'],\n",
              "       [126, 7.2, 3.2, 6.0, 1.8, 'Iris-virginica'],\n",
              "       [127, 6.2, 2.8, 4.8, 1.8, 'Iris-virginica'],\n",
              "       [128, 6.1, 3.0, 4.9, 1.8, 'Iris-virginica'],\n",
              "       [129, 6.4, 2.8, 5.6, 2.1, 'Iris-virginica'],\n",
              "       [130, 7.2, 3.0, 5.8, 1.6, 'Iris-virginica'],\n",
              "       [131, 7.4, 2.8, 6.1, 1.9, 'Iris-virginica'],\n",
              "       [132, 7.9, 3.8, 6.4, 2.0, 'Iris-virginica'],\n",
              "       [133, 6.4, 2.8, 5.6, 2.2, 'Iris-virginica'],\n",
              "       [134, 6.3, 2.8, 5.1, 1.5, 'Iris-virginica'],\n",
              "       [135, 6.1, 2.6, 5.6, 1.4, 'Iris-virginica'],\n",
              "       [136, 7.7, 3.0, 6.1, 2.3, 'Iris-virginica'],\n",
              "       [137, 6.3, 3.4, 5.6, 2.4, 'Iris-virginica'],\n",
              "       [138, 6.4, 3.1, 5.5, 1.8, 'Iris-virginica'],\n",
              "       [139, 6.0, 3.0, 4.8, 1.8, 'Iris-virginica'],\n",
              "       [140, 6.9, 3.1, 5.4, 2.1, 'Iris-virginica'],\n",
              "       [141, 6.7, 3.1, 5.6, 2.4, 'Iris-virginica'],\n",
              "       [142, 6.9, 3.1, 5.1, 2.3, 'Iris-virginica'],\n",
              "       [143, 5.8, 2.7, 5.1, 1.9, 'Iris-virginica'],\n",
              "       [144, 6.8, 3.2, 5.9, 2.3, 'Iris-virginica'],\n",
              "       [145, 6.7, 3.3, 5.7, 2.5, 'Iris-virginica'],\n",
              "       [146, 6.7, 3.0, 5.2, 2.3, 'Iris-virginica'],\n",
              "       [147, 6.3, 2.5, 5.0, 1.9, 'Iris-virginica'],\n",
              "       [148, 6.5, 3.0, 5.2, 2.0, 'Iris-virginica'],\n",
              "       [149, 6.2, 3.4, 5.4, 2.3, 'Iris-virginica'],\n",
              "       [150, 5.9, 3.0, 5.1, 1.8, 'Iris-virginica']], dtype=object)"
            ]
          },
          "metadata": {},
          "execution_count": 9
        }
      ]
    },
    {
      "cell_type": "code",
      "source": [
        "iris.info()   # to check if there is iany null value or if all the rows are filled"
      ],
      "metadata": {
        "colab": {
          "base_uri": "https://localhost:8080/"
        },
        "id": "-iBd6aEtBZ-8",
        "outputId": "d0185170-6bf0-46c0-9b9c-ec5febe2b39e"
      },
      "execution_count": null,
      "outputs": [
        {
          "output_type": "stream",
          "name": "stdout",
          "text": [
            "<class 'pandas.core.frame.DataFrame'>\n",
            "RangeIndex: 150 entries, 0 to 149\n",
            "Data columns (total 6 columns):\n",
            " #   Column         Non-Null Count  Dtype  \n",
            "---  ------         --------------  -----  \n",
            " 0   Id             150 non-null    int64  \n",
            " 1   SepalLengthCm  150 non-null    float64\n",
            " 2   SepalWidthCm   150 non-null    float64\n",
            " 3   PetalLengthCm  150 non-null    float64\n",
            " 4   PetalWidthCm   150 non-null    float64\n",
            " 5   Species        150 non-null    object \n",
            "dtypes: float64(4), int64(1), object(1)\n",
            "memory usage: 7.2+ KB\n"
          ]
        }
      ]
    },
    {
      "cell_type": "code",
      "source": [
        "iris.describe()  # statsitical values of dataset"
      ],
      "metadata": {
        "colab": {
          "base_uri": "https://localhost:8080/",
          "height": 300
        },
        "id": "Vk1cMmZcBeC7",
        "outputId": "97e00a8a-9b3e-41d0-d0f1-2e8d847dd7da"
      },
      "execution_count": null,
      "outputs": [
        {
          "output_type": "execute_result",
          "data": {
            "text/plain": [
              "               Id  SepalLengthCm  SepalWidthCm  PetalLengthCm  PetalWidthCm\n",
              "count  150.000000     150.000000    150.000000     150.000000    150.000000\n",
              "mean    75.500000       5.843333      3.054000       3.758667      1.198667\n",
              "std     43.445368       0.828066      0.433594       1.764420      0.763161\n",
              "min      1.000000       4.300000      2.000000       1.000000      0.100000\n",
              "25%     38.250000       5.100000      2.800000       1.600000      0.300000\n",
              "50%     75.500000       5.800000      3.000000       4.350000      1.300000\n",
              "75%    112.750000       6.400000      3.300000       5.100000      1.800000\n",
              "max    150.000000       7.900000      4.400000       6.900000      2.500000"
            ],
            "text/html": [
              "\n",
              "  <div id=\"df-8a43079e-3f68-426f-8a42-039e249b7323\">\n",
              "    <div class=\"colab-df-container\">\n",
              "      <div>\n",
              "<style scoped>\n",
              "    .dataframe tbody tr th:only-of-type {\n",
              "        vertical-align: middle;\n",
              "    }\n",
              "\n",
              "    .dataframe tbody tr th {\n",
              "        vertical-align: top;\n",
              "    }\n",
              "\n",
              "    .dataframe thead th {\n",
              "        text-align: right;\n",
              "    }\n",
              "</style>\n",
              "<table border=\"1\" class=\"dataframe\">\n",
              "  <thead>\n",
              "    <tr style=\"text-align: right;\">\n",
              "      <th></th>\n",
              "      <th>Id</th>\n",
              "      <th>SepalLengthCm</th>\n",
              "      <th>SepalWidthCm</th>\n",
              "      <th>PetalLengthCm</th>\n",
              "      <th>PetalWidthCm</th>\n",
              "    </tr>\n",
              "  </thead>\n",
              "  <tbody>\n",
              "    <tr>\n",
              "      <th>count</th>\n",
              "      <td>150.000000</td>\n",
              "      <td>150.000000</td>\n",
              "      <td>150.000000</td>\n",
              "      <td>150.000000</td>\n",
              "      <td>150.000000</td>\n",
              "    </tr>\n",
              "    <tr>\n",
              "      <th>mean</th>\n",
              "      <td>75.500000</td>\n",
              "      <td>5.843333</td>\n",
              "      <td>3.054000</td>\n",
              "      <td>3.758667</td>\n",
              "      <td>1.198667</td>\n",
              "    </tr>\n",
              "    <tr>\n",
              "      <th>std</th>\n",
              "      <td>43.445368</td>\n",
              "      <td>0.828066</td>\n",
              "      <td>0.433594</td>\n",
              "      <td>1.764420</td>\n",
              "      <td>0.763161</td>\n",
              "    </tr>\n",
              "    <tr>\n",
              "      <th>min</th>\n",
              "      <td>1.000000</td>\n",
              "      <td>4.300000</td>\n",
              "      <td>2.000000</td>\n",
              "      <td>1.000000</td>\n",
              "      <td>0.100000</td>\n",
              "    </tr>\n",
              "    <tr>\n",
              "      <th>25%</th>\n",
              "      <td>38.250000</td>\n",
              "      <td>5.100000</td>\n",
              "      <td>2.800000</td>\n",
              "      <td>1.600000</td>\n",
              "      <td>0.300000</td>\n",
              "    </tr>\n",
              "    <tr>\n",
              "      <th>50%</th>\n",
              "      <td>75.500000</td>\n",
              "      <td>5.800000</td>\n",
              "      <td>3.000000</td>\n",
              "      <td>4.350000</td>\n",
              "      <td>1.300000</td>\n",
              "    </tr>\n",
              "    <tr>\n",
              "      <th>75%</th>\n",
              "      <td>112.750000</td>\n",
              "      <td>6.400000</td>\n",
              "      <td>3.300000</td>\n",
              "      <td>5.100000</td>\n",
              "      <td>1.800000</td>\n",
              "    </tr>\n",
              "    <tr>\n",
              "      <th>max</th>\n",
              "      <td>150.000000</td>\n",
              "      <td>7.900000</td>\n",
              "      <td>4.400000</td>\n",
              "      <td>6.900000</td>\n",
              "      <td>2.500000</td>\n",
              "    </tr>\n",
              "  </tbody>\n",
              "</table>\n",
              "</div>\n",
              "      <button class=\"colab-df-convert\" onclick=\"convertToInteractive('df-8a43079e-3f68-426f-8a42-039e249b7323')\"\n",
              "              title=\"Convert this dataframe to an interactive table.\"\n",
              "              style=\"display:none;\">\n",
              "        \n",
              "  <svg xmlns=\"http://www.w3.org/2000/svg\" height=\"24px\"viewBox=\"0 0 24 24\"\n",
              "       width=\"24px\">\n",
              "    <path d=\"M0 0h24v24H0V0z\" fill=\"none\"/>\n",
              "    <path d=\"M18.56 5.44l.94 2.06.94-2.06 2.06-.94-2.06-.94-.94-2.06-.94 2.06-2.06.94zm-11 1L8.5 8.5l.94-2.06 2.06-.94-2.06-.94L8.5 2.5l-.94 2.06-2.06.94zm10 10l.94 2.06.94-2.06 2.06-.94-2.06-.94-.94-2.06-.94 2.06-2.06.94z\"/><path d=\"M17.41 7.96l-1.37-1.37c-.4-.4-.92-.59-1.43-.59-.52 0-1.04.2-1.43.59L10.3 9.45l-7.72 7.72c-.78.78-.78 2.05 0 2.83L4 21.41c.39.39.9.59 1.41.59.51 0 1.02-.2 1.41-.59l7.78-7.78 2.81-2.81c.8-.78.8-2.07 0-2.86zM5.41 20L4 18.59l7.72-7.72 1.47 1.35L5.41 20z\"/>\n",
              "  </svg>\n",
              "      </button>\n",
              "      \n",
              "  <style>\n",
              "    .colab-df-container {\n",
              "      display:flex;\n",
              "      flex-wrap:wrap;\n",
              "      gap: 12px;\n",
              "    }\n",
              "\n",
              "    .colab-df-convert {\n",
              "      background-color: #E8F0FE;\n",
              "      border: none;\n",
              "      border-radius: 50%;\n",
              "      cursor: pointer;\n",
              "      display: none;\n",
              "      fill: #1967D2;\n",
              "      height: 32px;\n",
              "      padding: 0 0 0 0;\n",
              "      width: 32px;\n",
              "    }\n",
              "\n",
              "    .colab-df-convert:hover {\n",
              "      background-color: #E2EBFA;\n",
              "      box-shadow: 0px 1px 2px rgba(60, 64, 67, 0.3), 0px 1px 3px 1px rgba(60, 64, 67, 0.15);\n",
              "      fill: #174EA6;\n",
              "    }\n",
              "\n",
              "    [theme=dark] .colab-df-convert {\n",
              "      background-color: #3B4455;\n",
              "      fill: #D2E3FC;\n",
              "    }\n",
              "\n",
              "    [theme=dark] .colab-df-convert:hover {\n",
              "      background-color: #434B5C;\n",
              "      box-shadow: 0px 1px 3px 1px rgba(0, 0, 0, 0.15);\n",
              "      filter: drop-shadow(0px 1px 2px rgba(0, 0, 0, 0.3));\n",
              "      fill: #FFFFFF;\n",
              "    }\n",
              "  </style>\n",
              "\n",
              "      <script>\n",
              "        const buttonEl =\n",
              "          document.querySelector('#df-8a43079e-3f68-426f-8a42-039e249b7323 button.colab-df-convert');\n",
              "        buttonEl.style.display =\n",
              "          google.colab.kernel.accessAllowed ? 'block' : 'none';\n",
              "\n",
              "        async function convertToInteractive(key) {\n",
              "          const element = document.querySelector('#df-8a43079e-3f68-426f-8a42-039e249b7323');\n",
              "          const dataTable =\n",
              "            await google.colab.kernel.invokeFunction('convertToInteractive',\n",
              "                                                     [key], {});\n",
              "          if (!dataTable) return;\n",
              "\n",
              "          const docLinkHtml = 'Like what you see? Visit the ' +\n",
              "            '<a target=\"_blank\" href=https://colab.research.google.com/notebooks/data_table.ipynb>data table notebook</a>'\n",
              "            + ' to learn more about interactive tables.';\n",
              "          element.innerHTML = '';\n",
              "          dataTable['output_type'] = 'display_data';\n",
              "          await google.colab.output.renderOutput(dataTable, element);\n",
              "          const docLink = document.createElement('div');\n",
              "          docLink.innerHTML = docLinkHtml;\n",
              "          element.appendChild(docLink);\n",
              "        }\n",
              "      </script>\n",
              "    </div>\n",
              "  </div>\n",
              "  "
            ]
          },
          "metadata": {},
          "execution_count": 11
        }
      ]
    },
    {
      "cell_type": "markdown",
      "source": [
        "**SPLITTING** **INTO X AND Y**"
      ],
      "metadata": {
        "id": "VZo5N2OhCLy_"
      }
    },
    {
      "cell_type": "code",
      "source": [
        "x=iris.iloc[:,:5]\n",
        "y=iris.iloc[:,-1]"
      ],
      "metadata": {
        "id": "m8MW9aqVB0kk"
      },
      "execution_count": null,
      "outputs": []
    },
    {
      "cell_type": "code",
      "source": [
        "x\n"
      ],
      "metadata": {
        "colab": {
          "base_uri": "https://localhost:8080/",
          "height": 424
        },
        "id": "8HoGTuxpCsvw",
        "outputId": "58dc2b8d-b396-4dfa-8a3e-538920dc4ee1"
      },
      "execution_count": null,
      "outputs": [
        {
          "output_type": "execute_result",
          "data": {
            "text/plain": [
              "      Id  SepalLengthCm  SepalWidthCm  PetalLengthCm  PetalWidthCm\n",
              "0      1            5.1           3.5            1.4           0.2\n",
              "1      2            4.9           3.0            1.4           0.2\n",
              "2      3            4.7           3.2            1.3           0.2\n",
              "3      4            4.6           3.1            1.5           0.2\n",
              "4      5            5.0           3.6            1.4           0.2\n",
              "..   ...            ...           ...            ...           ...\n",
              "145  146            6.7           3.0            5.2           2.3\n",
              "146  147            6.3           2.5            5.0           1.9\n",
              "147  148            6.5           3.0            5.2           2.0\n",
              "148  149            6.2           3.4            5.4           2.3\n",
              "149  150            5.9           3.0            5.1           1.8\n",
              "\n",
              "[150 rows x 5 columns]"
            ],
            "text/html": [
              "\n",
              "  <div id=\"df-71d94e93-492a-4126-91c5-b0d9e9303865\">\n",
              "    <div class=\"colab-df-container\">\n",
              "      <div>\n",
              "<style scoped>\n",
              "    .dataframe tbody tr th:only-of-type {\n",
              "        vertical-align: middle;\n",
              "    }\n",
              "\n",
              "    .dataframe tbody tr th {\n",
              "        vertical-align: top;\n",
              "    }\n",
              "\n",
              "    .dataframe thead th {\n",
              "        text-align: right;\n",
              "    }\n",
              "</style>\n",
              "<table border=\"1\" class=\"dataframe\">\n",
              "  <thead>\n",
              "    <tr style=\"text-align: right;\">\n",
              "      <th></th>\n",
              "      <th>Id</th>\n",
              "      <th>SepalLengthCm</th>\n",
              "      <th>SepalWidthCm</th>\n",
              "      <th>PetalLengthCm</th>\n",
              "      <th>PetalWidthCm</th>\n",
              "    </tr>\n",
              "  </thead>\n",
              "  <tbody>\n",
              "    <tr>\n",
              "      <th>0</th>\n",
              "      <td>1</td>\n",
              "      <td>5.1</td>\n",
              "      <td>3.5</td>\n",
              "      <td>1.4</td>\n",
              "      <td>0.2</td>\n",
              "    </tr>\n",
              "    <tr>\n",
              "      <th>1</th>\n",
              "      <td>2</td>\n",
              "      <td>4.9</td>\n",
              "      <td>3.0</td>\n",
              "      <td>1.4</td>\n",
              "      <td>0.2</td>\n",
              "    </tr>\n",
              "    <tr>\n",
              "      <th>2</th>\n",
              "      <td>3</td>\n",
              "      <td>4.7</td>\n",
              "      <td>3.2</td>\n",
              "      <td>1.3</td>\n",
              "      <td>0.2</td>\n",
              "    </tr>\n",
              "    <tr>\n",
              "      <th>3</th>\n",
              "      <td>4</td>\n",
              "      <td>4.6</td>\n",
              "      <td>3.1</td>\n",
              "      <td>1.5</td>\n",
              "      <td>0.2</td>\n",
              "    </tr>\n",
              "    <tr>\n",
              "      <th>4</th>\n",
              "      <td>5</td>\n",
              "      <td>5.0</td>\n",
              "      <td>3.6</td>\n",
              "      <td>1.4</td>\n",
              "      <td>0.2</td>\n",
              "    </tr>\n",
              "    <tr>\n",
              "      <th>...</th>\n",
              "      <td>...</td>\n",
              "      <td>...</td>\n",
              "      <td>...</td>\n",
              "      <td>...</td>\n",
              "      <td>...</td>\n",
              "    </tr>\n",
              "    <tr>\n",
              "      <th>145</th>\n",
              "      <td>146</td>\n",
              "      <td>6.7</td>\n",
              "      <td>3.0</td>\n",
              "      <td>5.2</td>\n",
              "      <td>2.3</td>\n",
              "    </tr>\n",
              "    <tr>\n",
              "      <th>146</th>\n",
              "      <td>147</td>\n",
              "      <td>6.3</td>\n",
              "      <td>2.5</td>\n",
              "      <td>5.0</td>\n",
              "      <td>1.9</td>\n",
              "    </tr>\n",
              "    <tr>\n",
              "      <th>147</th>\n",
              "      <td>148</td>\n",
              "      <td>6.5</td>\n",
              "      <td>3.0</td>\n",
              "      <td>5.2</td>\n",
              "      <td>2.0</td>\n",
              "    </tr>\n",
              "    <tr>\n",
              "      <th>148</th>\n",
              "      <td>149</td>\n",
              "      <td>6.2</td>\n",
              "      <td>3.4</td>\n",
              "      <td>5.4</td>\n",
              "      <td>2.3</td>\n",
              "    </tr>\n",
              "    <tr>\n",
              "      <th>149</th>\n",
              "      <td>150</td>\n",
              "      <td>5.9</td>\n",
              "      <td>3.0</td>\n",
              "      <td>5.1</td>\n",
              "      <td>1.8</td>\n",
              "    </tr>\n",
              "  </tbody>\n",
              "</table>\n",
              "<p>150 rows × 5 columns</p>\n",
              "</div>\n",
              "      <button class=\"colab-df-convert\" onclick=\"convertToInteractive('df-71d94e93-492a-4126-91c5-b0d9e9303865')\"\n",
              "              title=\"Convert this dataframe to an interactive table.\"\n",
              "              style=\"display:none;\">\n",
              "        \n",
              "  <svg xmlns=\"http://www.w3.org/2000/svg\" height=\"24px\"viewBox=\"0 0 24 24\"\n",
              "       width=\"24px\">\n",
              "    <path d=\"M0 0h24v24H0V0z\" fill=\"none\"/>\n",
              "    <path d=\"M18.56 5.44l.94 2.06.94-2.06 2.06-.94-2.06-.94-.94-2.06-.94 2.06-2.06.94zm-11 1L8.5 8.5l.94-2.06 2.06-.94-2.06-.94L8.5 2.5l-.94 2.06-2.06.94zm10 10l.94 2.06.94-2.06 2.06-.94-2.06-.94-.94-2.06-.94 2.06-2.06.94z\"/><path d=\"M17.41 7.96l-1.37-1.37c-.4-.4-.92-.59-1.43-.59-.52 0-1.04.2-1.43.59L10.3 9.45l-7.72 7.72c-.78.78-.78 2.05 0 2.83L4 21.41c.39.39.9.59 1.41.59.51 0 1.02-.2 1.41-.59l7.78-7.78 2.81-2.81c.8-.78.8-2.07 0-2.86zM5.41 20L4 18.59l7.72-7.72 1.47 1.35L5.41 20z\"/>\n",
              "  </svg>\n",
              "      </button>\n",
              "      \n",
              "  <style>\n",
              "    .colab-df-container {\n",
              "      display:flex;\n",
              "      flex-wrap:wrap;\n",
              "      gap: 12px;\n",
              "    }\n",
              "\n",
              "    .colab-df-convert {\n",
              "      background-color: #E8F0FE;\n",
              "      border: none;\n",
              "      border-radius: 50%;\n",
              "      cursor: pointer;\n",
              "      display: none;\n",
              "      fill: #1967D2;\n",
              "      height: 32px;\n",
              "      padding: 0 0 0 0;\n",
              "      width: 32px;\n",
              "    }\n",
              "\n",
              "    .colab-df-convert:hover {\n",
              "      background-color: #E2EBFA;\n",
              "      box-shadow: 0px 1px 2px rgba(60, 64, 67, 0.3), 0px 1px 3px 1px rgba(60, 64, 67, 0.15);\n",
              "      fill: #174EA6;\n",
              "    }\n",
              "\n",
              "    [theme=dark] .colab-df-convert {\n",
              "      background-color: #3B4455;\n",
              "      fill: #D2E3FC;\n",
              "    }\n",
              "\n",
              "    [theme=dark] .colab-df-convert:hover {\n",
              "      background-color: #434B5C;\n",
              "      box-shadow: 0px 1px 3px 1px rgba(0, 0, 0, 0.15);\n",
              "      filter: drop-shadow(0px 1px 2px rgba(0, 0, 0, 0.3));\n",
              "      fill: #FFFFFF;\n",
              "    }\n",
              "  </style>\n",
              "\n",
              "      <script>\n",
              "        const buttonEl =\n",
              "          document.querySelector('#df-71d94e93-492a-4126-91c5-b0d9e9303865 button.colab-df-convert');\n",
              "        buttonEl.style.display =\n",
              "          google.colab.kernel.accessAllowed ? 'block' : 'none';\n",
              "\n",
              "        async function convertToInteractive(key) {\n",
              "          const element = document.querySelector('#df-71d94e93-492a-4126-91c5-b0d9e9303865');\n",
              "          const dataTable =\n",
              "            await google.colab.kernel.invokeFunction('convertToInteractive',\n",
              "                                                     [key], {});\n",
              "          if (!dataTable) return;\n",
              "\n",
              "          const docLinkHtml = 'Like what you see? Visit the ' +\n",
              "            '<a target=\"_blank\" href=https://colab.research.google.com/notebooks/data_table.ipynb>data table notebook</a>'\n",
              "            + ' to learn more about interactive tables.';\n",
              "          element.innerHTML = '';\n",
              "          dataTable['output_type'] = 'display_data';\n",
              "          await google.colab.output.renderOutput(dataTable, element);\n",
              "          const docLink = document.createElement('div');\n",
              "          docLink.innerHTML = docLinkHtml;\n",
              "          element.appendChild(docLink);\n",
              "        }\n",
              "      </script>\n",
              "    </div>\n",
              "  </div>\n",
              "  "
            ]
          },
          "metadata": {},
          "execution_count": 13
        }
      ]
    },
    {
      "cell_type": "code",
      "source": [
        "y"
      ],
      "metadata": {
        "colab": {
          "base_uri": "https://localhost:8080/"
        },
        "id": "CwdOjFdCCuKz",
        "outputId": "3d953fab-7f30-487b-9b6a-1c133532df28"
      },
      "execution_count": null,
      "outputs": [
        {
          "output_type": "execute_result",
          "data": {
            "text/plain": [
              "0         Iris-setosa\n",
              "1         Iris-setosa\n",
              "2         Iris-setosa\n",
              "3         Iris-setosa\n",
              "4         Iris-setosa\n",
              "            ...      \n",
              "145    Iris-virginica\n",
              "146    Iris-virginica\n",
              "147    Iris-virginica\n",
              "148    Iris-virginica\n",
              "149    Iris-virginica\n",
              "Name: Species, Length: 150, dtype: object"
            ]
          },
          "metadata": {},
          "execution_count": 14
        }
      ]
    },
    {
      "cell_type": "markdown",
      "source": [
        "**DATA NORMALIZATION**"
      ],
      "metadata": {
        "id": "a6hcwyOYDYJj"
      }
    },
    {
      "cell_type": "code",
      "source": [
        "x=preprocessing.StandardScaler().fit_transform(x)   # for normal distribution to fit ainto dtandard scalar"
      ],
      "metadata": {
        "id": "_6FyzUzXCwbX"
      },
      "execution_count": null,
      "outputs": []
    },
    {
      "cell_type": "code",
      "source": [
        "x"
      ],
      "metadata": {
        "colab": {
          "base_uri": "https://localhost:8080/"
        },
        "id": "dVC9T3hLEPXM",
        "outputId": "bfcf1b39-5e1c-4d53-c9b0-af2700da3f68"
      },
      "execution_count": null,
      "outputs": [
        {
          "output_type": "execute_result",
          "data": {
            "text/plain": [
              "array([[-1.72054204e+00, -9.00681170e-01,  1.03205722e+00,\n",
              "        -1.34127240e+00, -1.31297673e+00],\n",
              "       [-1.69744751e+00, -1.14301691e+00, -1.24957601e-01,\n",
              "        -1.34127240e+00, -1.31297673e+00],\n",
              "       [-1.67435299e+00, -1.38535265e+00,  3.37848329e-01,\n",
              "        -1.39813811e+00, -1.31297673e+00],\n",
              "       [-1.65125846e+00, -1.50652052e+00,  1.06445364e-01,\n",
              "        -1.28440670e+00, -1.31297673e+00],\n",
              "       [-1.62816394e+00, -1.02184904e+00,  1.26346019e+00,\n",
              "        -1.34127240e+00, -1.31297673e+00],\n",
              "       [-1.60506942e+00, -5.37177559e-01,  1.95766909e+00,\n",
              "        -1.17067529e+00, -1.05003079e+00],\n",
              "       [-1.58197489e+00, -1.50652052e+00,  8.00654259e-01,\n",
              "        -1.34127240e+00, -1.18150376e+00],\n",
              "       [-1.55888037e+00, -1.02184904e+00,  8.00654259e-01,\n",
              "        -1.28440670e+00, -1.31297673e+00],\n",
              "       [-1.53578584e+00, -1.74885626e+00, -3.56360566e-01,\n",
              "        -1.34127240e+00, -1.31297673e+00],\n",
              "       [-1.51269132e+00, -1.14301691e+00,  1.06445364e-01,\n",
              "        -1.28440670e+00, -1.44444970e+00],\n",
              "       [-1.48959680e+00, -5.37177559e-01,  1.49486315e+00,\n",
              "        -1.28440670e+00, -1.31297673e+00],\n",
              "       [-1.46650227e+00, -1.26418478e+00,  8.00654259e-01,\n",
              "        -1.22754100e+00, -1.31297673e+00],\n",
              "       [-1.44340775e+00, -1.26418478e+00, -1.24957601e-01,\n",
              "        -1.34127240e+00, -1.44444970e+00],\n",
              "       [-1.42031323e+00, -1.87002413e+00, -1.24957601e-01,\n",
              "        -1.51186952e+00, -1.44444970e+00],\n",
              "       [-1.39721870e+00, -5.25060772e-02,  2.18907205e+00,\n",
              "        -1.45500381e+00, -1.31297673e+00],\n",
              "       [-1.37412418e+00, -1.73673948e-01,  3.11468391e+00,\n",
              "        -1.28440670e+00, -1.05003079e+00],\n",
              "       [-1.35102965e+00, -5.37177559e-01,  1.95766909e+00,\n",
              "        -1.39813811e+00, -1.05003079e+00],\n",
              "       [-1.32793513e+00, -9.00681170e-01,  1.03205722e+00,\n",
              "        -1.34127240e+00, -1.18150376e+00],\n",
              "       [-1.30484061e+00, -1.73673948e-01,  1.72626612e+00,\n",
              "        -1.17067529e+00, -1.18150376e+00],\n",
              "       [-1.28174608e+00, -9.00681170e-01,  1.72626612e+00,\n",
              "        -1.28440670e+00, -1.18150376e+00],\n",
              "       [-1.25865156e+00, -5.37177559e-01,  8.00654259e-01,\n",
              "        -1.17067529e+00, -1.31297673e+00],\n",
              "       [-1.23555703e+00, -9.00681170e-01,  1.49486315e+00,\n",
              "        -1.28440670e+00, -1.05003079e+00],\n",
              "       [-1.21246251e+00, -1.50652052e+00,  1.26346019e+00,\n",
              "        -1.56873522e+00, -1.31297673e+00],\n",
              "       [-1.18936799e+00, -9.00681170e-01,  5.69251294e-01,\n",
              "        -1.17067529e+00, -9.18557817e-01],\n",
              "       [-1.16627346e+00, -1.26418478e+00,  8.00654259e-01,\n",
              "        -1.05694388e+00, -1.31297673e+00],\n",
              "       [-1.14317894e+00, -1.02184904e+00, -1.24957601e-01,\n",
              "        -1.22754100e+00, -1.31297673e+00],\n",
              "       [-1.12008441e+00, -1.02184904e+00,  8.00654259e-01,\n",
              "        -1.22754100e+00, -1.05003079e+00],\n",
              "       [-1.09698989e+00, -7.79513300e-01,  1.03205722e+00,\n",
              "        -1.28440670e+00, -1.31297673e+00],\n",
              "       [-1.07389537e+00, -7.79513300e-01,  8.00654259e-01,\n",
              "        -1.34127240e+00, -1.31297673e+00],\n",
              "       [-1.05080084e+00, -1.38535265e+00,  3.37848329e-01,\n",
              "        -1.22754100e+00, -1.31297673e+00],\n",
              "       [-1.02770632e+00, -1.26418478e+00,  1.06445364e-01,\n",
              "        -1.22754100e+00, -1.31297673e+00],\n",
              "       [-1.00461179e+00, -5.37177559e-01,  8.00654259e-01,\n",
              "        -1.28440670e+00, -1.05003079e+00],\n",
              "       [-9.81517269e-01, -7.79513300e-01,  2.42047502e+00,\n",
              "        -1.28440670e+00, -1.44444970e+00],\n",
              "       [-9.58422745e-01, -4.16009689e-01,  2.65187798e+00,\n",
              "        -1.34127240e+00, -1.31297673e+00],\n",
              "       [-9.35328221e-01, -1.14301691e+00,  1.06445364e-01,\n",
              "        -1.28440670e+00, -1.44444970e+00],\n",
              "       [-9.12233697e-01, -1.02184904e+00,  3.37848329e-01,\n",
              "        -1.45500381e+00, -1.31297673e+00],\n",
              "       [-8.89139173e-01, -4.16009689e-01,  1.03205722e+00,\n",
              "        -1.39813811e+00, -1.31297673e+00],\n",
              "       [-8.66044649e-01, -1.14301691e+00,  1.06445364e-01,\n",
              "        -1.28440670e+00, -1.44444970e+00],\n",
              "       [-8.42950125e-01, -1.74885626e+00, -1.24957601e-01,\n",
              "        -1.39813811e+00, -1.31297673e+00],\n",
              "       [-8.19855601e-01, -9.00681170e-01,  8.00654259e-01,\n",
              "        -1.28440670e+00, -1.31297673e+00],\n",
              "       [-7.96761077e-01, -1.02184904e+00,  1.03205722e+00,\n",
              "        -1.39813811e+00, -1.18150376e+00],\n",
              "       [-7.73666553e-01, -1.62768839e+00, -1.74477836e+00,\n",
              "        -1.39813811e+00, -1.18150376e+00],\n",
              "       [-7.50572030e-01, -1.74885626e+00,  3.37848329e-01,\n",
              "        -1.39813811e+00, -1.31297673e+00],\n",
              "       [-7.27477506e-01, -1.02184904e+00,  1.03205722e+00,\n",
              "        -1.22754100e+00, -7.87084847e-01],\n",
              "       [-7.04382982e-01, -9.00681170e-01,  1.72626612e+00,\n",
              "        -1.05694388e+00, -1.05003079e+00],\n",
              "       [-6.81288458e-01, -1.26418478e+00, -1.24957601e-01,\n",
              "        -1.34127240e+00, -1.18150376e+00],\n",
              "       [-6.58193934e-01, -9.00681170e-01,  1.72626612e+00,\n",
              "        -1.22754100e+00, -1.31297673e+00],\n",
              "       [-6.35099410e-01, -1.50652052e+00,  3.37848329e-01,\n",
              "        -1.34127240e+00, -1.31297673e+00],\n",
              "       [-6.12004886e-01, -6.58345429e-01,  1.49486315e+00,\n",
              "        -1.28440670e+00, -1.31297673e+00],\n",
              "       [-5.88910362e-01, -1.02184904e+00,  5.69251294e-01,\n",
              "        -1.34127240e+00, -1.31297673e+00],\n",
              "       [-5.65815838e-01,  1.40150837e+00,  3.37848329e-01,\n",
              "         5.35295827e-01,  2.64698913e-01],\n",
              "       [-5.42721314e-01,  6.74501145e-01,  3.37848329e-01,\n",
              "         4.21564419e-01,  3.96171883e-01],\n",
              "       [-5.19626790e-01,  1.28034050e+00,  1.06445364e-01,\n",
              "         6.49027235e-01,  3.96171883e-01],\n",
              "       [-4.96532266e-01, -4.16009689e-01, -1.74477836e+00,\n",
              "         1.37235899e-01,  1.33225943e-01],\n",
              "       [-4.73437742e-01,  7.95669016e-01, -5.87763531e-01,\n",
              "         4.78430123e-01,  3.96171883e-01],\n",
              "       [-4.50343218e-01, -1.73673948e-01, -5.87763531e-01,\n",
              "         4.21564419e-01,  1.33225943e-01],\n",
              "       [-4.27248694e-01,  5.53333275e-01,  5.69251294e-01,\n",
              "         5.35295827e-01,  5.27644853e-01],\n",
              "       [-4.04154170e-01, -1.14301691e+00, -1.51337539e+00,\n",
              "        -2.60824029e-01, -2.61192967e-01],\n",
              "       [-3.81059646e-01,  9.16836886e-01, -3.56360566e-01,\n",
              "         4.78430123e-01,  1.33225943e-01],\n",
              "       [-3.57965122e-01, -7.79513300e-01, -8.19166497e-01,\n",
              "         8.03701950e-02,  2.64698913e-01],\n",
              "       [-3.34870598e-01, -1.02184904e+00, -2.43898725e+00,\n",
              "        -1.47092621e-01, -2.61192967e-01],\n",
              "       [-3.11776074e-01,  6.86617933e-02, -1.24957601e-01,\n",
              "         2.50967307e-01,  3.96171883e-01],\n",
              "       [-2.88681550e-01,  1.89829664e-01, -1.97618132e+00,\n",
              "         1.37235899e-01, -2.61192967e-01],\n",
              "       [-2.65587026e-01,  3.10997534e-01, -3.56360566e-01,\n",
              "         5.35295827e-01,  2.64698913e-01],\n",
              "       [-2.42492502e-01, -2.94841818e-01, -3.56360566e-01,\n",
              "        -9.02269170e-02,  1.33225943e-01],\n",
              "       [-2.19397978e-01,  1.03800476e+00,  1.06445364e-01,\n",
              "         3.64698715e-01,  2.64698913e-01],\n",
              "       [-1.96303454e-01, -2.94841818e-01, -1.24957601e-01,\n",
              "         4.21564419e-01,  3.96171883e-01],\n",
              "       [-1.73208930e-01, -5.25060772e-02, -8.19166497e-01,\n",
              "         1.94101603e-01, -2.61192967e-01],\n",
              "       [-1.50114406e-01,  4.32165405e-01, -1.97618132e+00,\n",
              "         4.21564419e-01,  3.96171883e-01],\n",
              "       [-1.27019882e-01, -2.94841818e-01, -1.28197243e+00,\n",
              "         8.03701950e-02, -1.29719997e-01],\n",
              "       [-1.03925358e-01,  6.86617933e-02,  3.37848329e-01,\n",
              "         5.92161531e-01,  7.90590793e-01],\n",
              "       [-8.08308339e-02,  3.10997534e-01, -5.87763531e-01,\n",
              "         1.37235899e-01,  1.33225943e-01],\n",
              "       [-5.77363100e-02,  5.53333275e-01, -1.28197243e+00,\n",
              "         6.49027235e-01,  3.96171883e-01],\n",
              "       [-3.46417860e-02,  3.10997534e-01, -5.87763531e-01,\n",
              "         5.35295827e-01,  1.75297293e-03],\n",
              "       [-1.15472620e-02,  6.74501145e-01, -3.56360566e-01,\n",
              "         3.07833011e-01,  1.33225943e-01],\n",
              "       [ 1.15472620e-02,  9.16836886e-01, -1.24957601e-01,\n",
              "         3.64698715e-01,  2.64698913e-01],\n",
              "       [ 3.46417860e-02,  1.15917263e+00, -5.87763531e-01,\n",
              "         5.92161531e-01,  2.64698913e-01],\n",
              "       [ 5.77363100e-02,  1.03800476e+00, -1.24957601e-01,\n",
              "         7.05892939e-01,  6.59117823e-01],\n",
              "       [ 8.08308339e-02,  1.89829664e-01, -3.56360566e-01,\n",
              "         4.21564419e-01,  3.96171883e-01],\n",
              "       [ 1.03925358e-01, -1.73673948e-01, -1.05056946e+00,\n",
              "        -1.47092621e-01, -2.61192967e-01],\n",
              "       [ 1.27019882e-01, -4.16009689e-01, -1.51337539e+00,\n",
              "         2.35044910e-02, -1.29719997e-01],\n",
              "       [ 1.50114406e-01, -4.16009689e-01, -1.51337539e+00,\n",
              "        -3.33612130e-02, -2.61192967e-01],\n",
              "       [ 1.73208930e-01, -5.25060772e-02, -8.19166497e-01,\n",
              "         8.03701950e-02,  1.75297293e-03],\n",
              "       [ 1.96303454e-01,  1.89829664e-01, -8.19166497e-01,\n",
              "         7.62758643e-01,  5.27644853e-01],\n",
              "       [ 2.19397978e-01, -5.37177559e-01, -1.24957601e-01,\n",
              "         4.21564419e-01,  3.96171883e-01],\n",
              "       [ 2.42492502e-01,  1.89829664e-01,  8.00654259e-01,\n",
              "         4.21564419e-01,  5.27644853e-01],\n",
              "       [ 2.65587026e-01,  1.03800476e+00,  1.06445364e-01,\n",
              "         5.35295827e-01,  3.96171883e-01],\n",
              "       [ 2.88681550e-01,  5.53333275e-01, -1.74477836e+00,\n",
              "         3.64698715e-01,  1.33225943e-01],\n",
              "       [ 3.11776074e-01, -2.94841818e-01, -1.24957601e-01,\n",
              "         1.94101603e-01,  1.33225943e-01],\n",
              "       [ 3.34870598e-01, -4.16009689e-01, -1.28197243e+00,\n",
              "         1.37235899e-01,  1.33225943e-01],\n",
              "       [ 3.57965122e-01, -4.16009689e-01, -1.05056946e+00,\n",
              "         3.64698715e-01,  1.75297293e-03],\n",
              "       [ 3.81059646e-01,  3.10997534e-01, -1.24957601e-01,\n",
              "         4.78430123e-01,  2.64698913e-01],\n",
              "       [ 4.04154170e-01, -5.25060772e-02, -1.05056946e+00,\n",
              "         1.37235899e-01,  1.75297293e-03],\n",
              "       [ 4.27248694e-01, -1.02184904e+00, -1.74477836e+00,\n",
              "        -2.60824029e-01, -2.61192967e-01],\n",
              "       [ 4.50343218e-01, -2.94841818e-01, -8.19166497e-01,\n",
              "         2.50967307e-01,  1.33225943e-01],\n",
              "       [ 4.73437742e-01, -1.73673948e-01, -1.24957601e-01,\n",
              "         2.50967307e-01,  1.75297293e-03],\n",
              "       [ 4.96532266e-01, -1.73673948e-01, -3.56360566e-01,\n",
              "         2.50967307e-01,  1.33225943e-01],\n",
              "       [ 5.19626790e-01,  4.32165405e-01, -3.56360566e-01,\n",
              "         3.07833011e-01,  1.33225943e-01],\n",
              "       [ 5.42721314e-01, -9.00681170e-01, -1.28197243e+00,\n",
              "        -4.31421141e-01, -1.29719997e-01],\n",
              "       [ 5.65815838e-01, -1.73673948e-01, -5.87763531e-01,\n",
              "         1.94101603e-01,  1.33225943e-01],\n",
              "       [ 5.88910362e-01,  5.53333275e-01,  5.69251294e-01,\n",
              "         1.27454998e+00,  1.71090158e+00],\n",
              "       [ 6.12004886e-01, -5.25060772e-02, -8.19166497e-01,\n",
              "         7.62758643e-01,  9.22063763e-01],\n",
              "       [ 6.35099410e-01,  1.52267624e+00, -1.24957601e-01,\n",
              "         1.21768427e+00,  1.18500970e+00],\n",
              "       [ 6.58193934e-01,  5.53333275e-01, -3.56360566e-01,\n",
              "         1.04708716e+00,  7.90590793e-01],\n",
              "       [ 6.81288458e-01,  7.95669016e-01, -1.24957601e-01,\n",
              "         1.16081857e+00,  1.31648267e+00],\n",
              "       [ 7.04382982e-01,  2.12851559e+00, -1.24957601e-01,\n",
              "         1.61574420e+00,  1.18500970e+00],\n",
              "       [ 7.27477506e-01, -1.14301691e+00, -1.28197243e+00,\n",
              "         4.21564419e-01,  6.59117823e-01],\n",
              "       [ 7.50572030e-01,  1.76501198e+00, -3.56360566e-01,\n",
              "         1.44514709e+00,  7.90590793e-01],\n",
              "       [ 7.73666553e-01,  1.03800476e+00, -1.28197243e+00,\n",
              "         1.16081857e+00,  7.90590793e-01],\n",
              "       [ 7.96761077e-01,  1.64384411e+00,  1.26346019e+00,\n",
              "         1.33141568e+00,  1.71090158e+00],\n",
              "       [ 8.19855601e-01,  7.95669016e-01,  3.37848329e-01,\n",
              "         7.62758643e-01,  1.05353673e+00],\n",
              "       [ 8.42950125e-01,  6.74501145e-01, -8.19166497e-01,\n",
              "         8.76490051e-01,  9.22063763e-01],\n",
              "       [ 8.66044649e-01,  1.15917263e+00, -1.24957601e-01,\n",
              "         9.90221459e-01,  1.18500970e+00],\n",
              "       [ 8.89139173e-01, -1.73673948e-01, -1.28197243e+00,\n",
              "         7.05892939e-01,  1.05353673e+00],\n",
              "       [ 9.12233697e-01, -5.25060772e-02, -5.87763531e-01,\n",
              "         7.62758643e-01,  1.57942861e+00],\n",
              "       [ 9.35328221e-01,  6.74501145e-01,  3.37848329e-01,\n",
              "         8.76490051e-01,  1.44795564e+00],\n",
              "       [ 9.58422745e-01,  7.95669016e-01, -1.24957601e-01,\n",
              "         9.90221459e-01,  7.90590793e-01],\n",
              "       [ 9.81517269e-01,  2.24968346e+00,  1.72626612e+00,\n",
              "         1.67260991e+00,  1.31648267e+00],\n",
              "       [ 1.00461179e+00,  2.24968346e+00, -1.05056946e+00,\n",
              "         1.78634131e+00,  1.44795564e+00],\n",
              "       [ 1.02770632e+00,  1.89829664e-01, -1.97618132e+00,\n",
              "         7.05892939e-01,  3.96171883e-01],\n",
              "       [ 1.05080084e+00,  1.28034050e+00,  3.37848329e-01,\n",
              "         1.10395287e+00,  1.44795564e+00],\n",
              "       [ 1.07389537e+00, -2.94841818e-01, -5.87763531e-01,\n",
              "         6.49027235e-01,  1.05353673e+00],\n",
              "       [ 1.09698989e+00,  2.24968346e+00, -5.87763531e-01,\n",
              "         1.67260991e+00,  1.05353673e+00],\n",
              "       [ 1.12008441e+00,  5.53333275e-01, -8.19166497e-01,\n",
              "         6.49027235e-01,  7.90590793e-01],\n",
              "       [ 1.14317894e+00,  1.03800476e+00,  5.69251294e-01,\n",
              "         1.10395287e+00,  1.18500970e+00],\n",
              "       [ 1.16627346e+00,  1.64384411e+00,  3.37848329e-01,\n",
              "         1.27454998e+00,  7.90590793e-01],\n",
              "       [ 1.18936799e+00,  4.32165405e-01, -5.87763531e-01,\n",
              "         5.92161531e-01,  7.90590793e-01],\n",
              "       [ 1.21246251e+00,  3.10997534e-01, -1.24957601e-01,\n",
              "         6.49027235e-01,  7.90590793e-01],\n",
              "       [ 1.23555703e+00,  6.74501145e-01, -5.87763531e-01,\n",
              "         1.04708716e+00,  1.18500970e+00],\n",
              "       [ 1.25865156e+00,  1.64384411e+00, -1.24957601e-01,\n",
              "         1.16081857e+00,  5.27644853e-01],\n",
              "       [ 1.28174608e+00,  1.88617985e+00, -5.87763531e-01,\n",
              "         1.33141568e+00,  9.22063763e-01],\n",
              "       [ 1.30484061e+00,  2.49201920e+00,  1.72626612e+00,\n",
              "         1.50201279e+00,  1.05353673e+00],\n",
              "       [ 1.32793513e+00,  6.74501145e-01, -5.87763531e-01,\n",
              "         1.04708716e+00,  1.31648267e+00],\n",
              "       [ 1.35102965e+00,  5.53333275e-01, -5.87763531e-01,\n",
              "         7.62758643e-01,  3.96171883e-01],\n",
              "       [ 1.37412418e+00,  3.10997534e-01, -1.05056946e+00,\n",
              "         1.04708716e+00,  2.64698913e-01],\n",
              "       [ 1.39721870e+00,  2.24968346e+00, -1.24957601e-01,\n",
              "         1.33141568e+00,  1.44795564e+00],\n",
              "       [ 1.42031323e+00,  5.53333275e-01,  8.00654259e-01,\n",
              "         1.04708716e+00,  1.57942861e+00],\n",
              "       [ 1.44340775e+00,  6.74501145e-01,  1.06445364e-01,\n",
              "         9.90221459e-01,  7.90590793e-01],\n",
              "       [ 1.46650227e+00,  1.89829664e-01, -1.24957601e-01,\n",
              "         5.92161531e-01,  7.90590793e-01],\n",
              "       [ 1.48959680e+00,  1.28034050e+00,  1.06445364e-01,\n",
              "         9.33355755e-01,  1.18500970e+00],\n",
              "       [ 1.51269132e+00,  1.03800476e+00,  1.06445364e-01,\n",
              "         1.04708716e+00,  1.57942861e+00],\n",
              "       [ 1.53578584e+00,  1.28034050e+00,  1.06445364e-01,\n",
              "         7.62758643e-01,  1.44795564e+00],\n",
              "       [ 1.55888037e+00, -5.25060772e-02, -8.19166497e-01,\n",
              "         7.62758643e-01,  9.22063763e-01],\n",
              "       [ 1.58197489e+00,  1.15917263e+00,  3.37848329e-01,\n",
              "         1.21768427e+00,  1.44795564e+00],\n",
              "       [ 1.60506942e+00,  1.03800476e+00,  5.69251294e-01,\n",
              "         1.10395287e+00,  1.71090158e+00],\n",
              "       [ 1.62816394e+00,  1.03800476e+00, -1.24957601e-01,\n",
              "         8.19624347e-01,  1.44795564e+00],\n",
              "       [ 1.65125846e+00,  5.53333275e-01, -1.28197243e+00,\n",
              "         7.05892939e-01,  9.22063763e-01],\n",
              "       [ 1.67435299e+00,  7.95669016e-01, -1.24957601e-01,\n",
              "         8.19624347e-01,  1.05353673e+00],\n",
              "       [ 1.69744751e+00,  4.32165405e-01,  8.00654259e-01,\n",
              "         9.33355755e-01,  1.44795564e+00],\n",
              "       [ 1.72054204e+00,  6.86617933e-02, -1.24957601e-01,\n",
              "         7.62758643e-01,  7.90590793e-01]])"
            ]
          },
          "metadata": {},
          "execution_count": 16
        }
      ]
    },
    {
      "cell_type": "markdown",
      "source": [
        "**TRAIN TEST SPLIT**"
      ],
      "metadata": {
        "id": "vUv4ZfKsEv-Z"
      }
    },
    {
      "cell_type": "code",
      "source": [
        "x_train,x_test,y_train,y_test=train_test_split(x,y,test_size=0.2,random_state=2)  # 80% training maodel and 20% for testig the model"
      ],
      "metadata": {
        "id": "MD2kdQXsEgm9"
      },
      "execution_count": null,
      "outputs": []
    },
    {
      "cell_type": "code",
      "source": [
        "x_train.shape"
      ],
      "metadata": {
        "colab": {
          "base_uri": "https://localhost:8080/"
        },
        "id": "qHA3vT2XFGGZ",
        "outputId": "540a81e6-9d60-499f-895e-70517bebfc0a"
      },
      "execution_count": null,
      "outputs": [
        {
          "output_type": "execute_result",
          "data": {
            "text/plain": [
              "(120, 5)"
            ]
          },
          "metadata": {},
          "execution_count": 18
        }
      ]
    },
    {
      "cell_type": "code",
      "source": [
        "x_test.shape"
      ],
      "metadata": {
        "colab": {
          "base_uri": "https://localhost:8080/"
        },
        "id": "LFOIymUWFPi-",
        "outputId": "9e3b820b-bb6a-4a7d-8715-dfe220a51e45"
      },
      "execution_count": null,
      "outputs": [
        {
          "output_type": "execute_result",
          "data": {
            "text/plain": [
              "(30, 5)"
            ]
          },
          "metadata": {},
          "execution_count": 19
        }
      ]
    },
    {
      "cell_type": "markdown",
      "source": [
        "**KNEIGHBOR CLASSIFIER**"
      ],
      "metadata": {
        "id": "XX3ayTkKFeYW"
      }
    },
    {
      "cell_type": "code",
      "source": [
        "knnmodel=KNeighborsClassifier(n_neighbors=3)"
      ],
      "metadata": {
        "id": "ZI6-2mozFayx"
      },
      "execution_count": null,
      "outputs": []
    },
    {
      "cell_type": "code",
      "source": [
        "knnmodel.fit(x_train,y_train)"
      ],
      "metadata": {
        "colab": {
          "base_uri": "https://localhost:8080/"
        },
        "id": "HTx9997zF9eq",
        "outputId": "a1b5d5f1-be11-474b-dd35-a2ff93b54eae"
      },
      "execution_count": null,
      "outputs": [
        {
          "output_type": "execute_result",
          "data": {
            "text/plain": [
              "KNeighborsClassifier(n_neighbors=3)"
            ]
          },
          "metadata": {},
          "execution_count": 21
        }
      ]
    },
    {
      "cell_type": "code",
      "source": [
        "y_predict=knnmodel.predict(x_test)"
      ],
      "metadata": {
        "id": "fdsvliLVGGTe"
      },
      "execution_count": null,
      "outputs": []
    },
    {
      "cell_type": "markdown",
      "source": [
        "**ACCURACY SCORE**"
      ],
      "metadata": {
        "id": "G4Av3o7rHEsu"
      }
    },
    {
      "cell_type": "code",
      "source": [
        "from sklearn.metrics import accuracy_score\n",
        "acc=accuracy_score(y_test.values,y_predict)"
      ],
      "metadata": {
        "id": "_Pe0QimNGYai"
      },
      "execution_count": null,
      "outputs": []
    },
    {
      "cell_type": "code",
      "source": [
        "acc"
      ],
      "metadata": {
        "colab": {
          "base_uri": "https://localhost:8080/"
        },
        "id": "2s0QUEnRHmML",
        "outputId": "4005a9f8-063f-4c83-9d15-2f02531b9a96"
      },
      "execution_count": null,
      "outputs": [
        {
          "output_type": "execute_result",
          "data": {
            "text/plain": [
              "1.0"
            ]
          },
          "metadata": {},
          "execution_count": 24
        }
      ]
    },
    {
      "cell_type": "code",
      "source": [],
      "metadata": {
        "id": "GX9Hlv7ZHqhP"
      },
      "execution_count": null,
      "outputs": []
    }
  ]
}